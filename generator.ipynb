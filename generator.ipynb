{
 "cells": [
  {
   "cell_type": "code",
   "execution_count": 1,
   "id": "e72df5db",
   "metadata": {},
   "outputs": [],
   "source": [
    "import os\n",
    "import numpy as np\n",
    "\n",
    "from datetime import datetime\n",
    "\n",
    "from data_generator import generate_customers, generate_products, generate_transactions\n",
    "\n",
    "if __name__ == \"__main__\":\n",
    "    np.random.seed(seed=42)\n",
    "\n",
    "    products_data = {\n",
    "        \"house\": [\"detergent\", \"kitchen roll\", \"bin liners\", \"shower gel\", \"scented candles\", \"fabric softener\",\n",
    "                  \"cling film\", \"aluminium foil\", \"toilet paper\", \"kitchen knife\", \"dishwasher tablets\", \"ice pack\"],\n",
    "        \"clothes\": [\"men's dark green trousers\", \"women's shoes\", \"jumper\", \"men's belt\", \"women's black socks\",\n",
    "                    \"men's striped socks\", \"men's trainers\", \"women's blouse\", \"women's red dress\"],\n",
    "        \"fruit_veg\": [\"avocado\", \"cherries\", \"scotch bonnets\", \"peppers\", \"broccoli\", \"potatoes\", \"grapes\",\n",
    "                      \"easy peeler\", \"mango\", \"lemon grass\", \"onions\", \"apples\", \"raspberries\"],\n",
    "        \"sweets\": [\"carrot cake\", \"salted caramel dark chocolate\", \"gummy bears\", \"kombucha\", \"ice cream\", \"irn bru\"],\n",
    "        \"food\": [\"steak\", \"chicken\", \"mince beef\", \"milk\", \"hummus\", \"activated charcoal croissant\", \"whole chicken\",\n",
    "                 \"tuna\", \"smoked salmon\", \"camembert\", \"pizza\", \"oats\", \"peanut butter\", \"almond milk\", \"lentil soup\",\n",
    "                 \"greek yoghurt\", \"parmesan\", \"coconut water\", \"chicken stock\",  \"water\"],\n",
    "        \"bws\": [\"red wine\", \"gin\", \"cognac\", \"cigarettes\"]\n",
    "    }\n",
    "    products_cats_frequency = [\"house\"]*15 + [\"clothes\"]*5 + [\"fruit_veg\"]*25 + [\"sweets\"] * 20 + [\"food\"] * 25 + \\\n",
    "                              [\"bws\"] * 10\n",
    "\n",
    "    gen_id = \"starter\"\n",
    "    output_location = f\"../input_data/{gen_id}\"\n",
    "    os.makedirs(output_location, exist_ok=True)\n",
    "\n",
    "    gen_customers = generate_customers(output_location, 137)\n",
    "    product_id_lookup = generate_products(output_location, products_data)\n",
    "\n",
    "    start_date = datetime(2018, 12, 1, 0, 0, 0)\n",
    "    end_date = datetime(2019, 3, 1, 23, 59, 59)\n",
    "    generate_transactions(output_location, gen_customers, products_data, product_id_lookup, products_cats_frequency,\n",
    "                          start_date, end_date)\n"
   ]
  },
  {
   "cell_type": "code",
   "execution_count": null,
   "id": "9da1f94d",
   "metadata": {},
   "outputs": [],
   "source": []
  }
 ],
 "metadata": {
  "kernelspec": {
   "display_name": "Python 3",
   "language": "python",
   "name": "python3"
  },
  "language_info": {
   "codemirror_mode": {
    "name": "ipython",
    "version": 3
   },
   "file_extension": ".py",
   "mimetype": "text/x-python",
   "name": "python",
   "nbconvert_exporter": "python",
   "pygments_lexer": "ipython3",
   "version": "3.8.11"
  }
 },
 "nbformat": 4,
 "nbformat_minor": 5
}
