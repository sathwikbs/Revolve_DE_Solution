{
 "cells": [
  {
   "cell_type": "code",
   "execution_count": 16,
   "id": "b3f88fb1",
   "metadata": {},
   "outputs": [],
   "source": [
    "from pyspark import *\n",
    "from pyspark.sql import SparkSession\n",
    "from pyspark.sql import functions as F\n",
    "from pyspark.sql.functions import *"
   ]
  },
  {
   "cell_type": "code",
   "execution_count": 3,
   "id": "08757d2c",
   "metadata": {},
   "outputs": [],
   "source": [
    "spark = SparkSession.builder.master(\"local[1]\").appName(\"SparkByExamples.com\").getOrCreate()"
   ]
  },
  {
   "cell_type": "code",
   "execution_count": 4,
   "id": "28569673",
   "metadata": {},
   "outputs": [
    {
     "data": {
      "text/plain": [
       "<pyspark.conf.SparkConf at 0x23b6e814670>"
      ]
     },
     "execution_count": 4,
     "metadata": {},
     "output_type": "execute_result"
    }
   ],
   "source": [
    "my_conf = SparkConf()\n",
    "my_conf.set(\"spark.app.name\",\"app1\")\n",
    "my_conf.set(\"spark.master\",\"local[*]\")"
   ]
  },
  {
   "cell_type": "code",
   "execution_count": 5,
   "id": "f1e2b18f",
   "metadata": {},
   "outputs": [],
   "source": [
    "spark = SparkSession.builder.config(conf=my_conf).getOrCreate()"
   ]
  },
  {
   "cell_type": "code",
   "execution_count": 6,
   "id": "4c9f32b4",
   "metadata": {},
   "outputs": [
    {
     "name": "stdout",
     "output_type": "stream",
     "text": [
      "+-----------+-------------+\n",
      "|customer_id|loyalty_score|\n",
      "+-----------+-------------+\n",
      "|         C1|            7|\n",
      "|         C2|            4|\n",
      "|         C3|            8|\n",
      "|         C4|            5|\n",
      "|         C5|            7|\n",
      "|         C6|           10|\n",
      "|         C7|            3|\n",
      "|         C8|            7|\n",
      "|         C9|            8|\n",
      "|        C10|            5|\n",
      "|        C11|            4|\n",
      "|        C12|            8|\n",
      "|        C13|            8|\n",
      "|        C14|            3|\n",
      "|        C15|            6|\n",
      "|        C16|            5|\n",
      "|        C17|            2|\n",
      "|        C18|            8|\n",
      "|        C19|            6|\n",
      "|        C20|            2|\n",
      "+-----------+-------------+\n",
      "only showing top 20 rows\n",
      "\n"
     ]
    }
   ],
   "source": [
    "customersDf = spark.read.csv(\"../input_data/starter/customers.csv\",header=True)\n",
    "customersDf.show()"
   ]
  },
  {
   "cell_type": "code",
   "execution_count": 7,
   "id": "c1cc6c96",
   "metadata": {},
   "outputs": [
    {
     "name": "stdout",
     "output_type": "stream",
     "text": [
      "+----------+--------------------+----------------+\n",
      "|product_id| product_description|product_category|\n",
      "+----------+--------------------+----------------+\n",
      "|       P01|           detergent|           house|\n",
      "|       P02|        kitchen roll|           house|\n",
      "|       P03|          bin liners|           house|\n",
      "|       P04|          shower gel|           house|\n",
      "|       P05|     scented candles|           house|\n",
      "|       P06|     fabric softener|           house|\n",
      "|       P07|          cling film|           house|\n",
      "|       P08|      aluminium foil|           house|\n",
      "|       P09|        toilet paper|           house|\n",
      "|       P10|       kitchen knife|           house|\n",
      "|       P11|  dishwasher tablets|           house|\n",
      "|       P12|            ice pack|           house|\n",
      "|       P13|men's dark green ...|         clothes|\n",
      "|       P14|       women's shoes|         clothes|\n",
      "|       P15|              jumper|         clothes|\n",
      "|       P16|          men's belt|         clothes|\n",
      "|       P17| women's black socks|         clothes|\n",
      "|       P18| men's striped socks|         clothes|\n",
      "|       P19|      men's trainers|         clothes|\n",
      "|       P20|      women's blouse|         clothes|\n",
      "+----------+--------------------+----------------+\n",
      "only showing top 20 rows\n",
      "\n"
     ]
    }
   ],
   "source": [
    "productsDf = spark.read.csv(\"../input_data/starter/products.csv\",header=True)\n",
    "productsDf.show()"
   ]
  },
  {
   "cell_type": "code",
   "execution_count": 9,
   "id": "491427f0",
   "metadata": {},
   "outputs": [],
   "source": [
    "ordersDf = spark.read.json(r\"..\\.\\input_data\\starter\\transactions\\d=2018-12-01\\transactions.json\")\n",
    "#only read one json since it was taking too long to read enitre subdirectory recursively"
   ]
  },
  {
   "cell_type": "code",
   "execution_count": 14,
   "id": "1d0e8bab",
   "metadata": {},
   "outputs": [
    {
     "name": "stdout",
     "output_type": "stream",
     "text": [
      "+--------------------+-----------+-------------------+\n",
      "|              basket|customer_id|   date_of_purchase|\n",
      "+--------------------+-----------+-------------------+\n",
      "|         [{15, P27}]|         C3|2018-12-01 23:36:00|\n",
      "|[{718, P37}, {567...|         C4|2018-12-01 17:19:00|\n",
      "|[{302, P27}, {572...|         C9|2018-12-01 18:20:00|\n",
      "|[{1999, P36}, {16...|        C10|2018-12-01 19:56:00|\n",
      "|[{720, P15}, {179...|        C16|2018-12-01 03:01:00|\n",
      "|       [{1595, P52}]|        C18|2018-12-01 18:47:00|\n",
      "|[{1642, P36}, {12...|        C23|2018-12-01 23:14:00|\n",
      "|[{183, P61}, {206...|        C27|2018-12-01 10:08:00|\n",
      "|[{853, P47}, {158...|        C42|2018-12-01 05:02:00|\n",
      "|       [{1094, P64}]|        C43|2018-12-01 13:43:00|\n",
      "|[{495, P33}, {147...|        C55|2018-12-01 12:46:00|\n",
      "|[{1543, P01}, {11...|        C56|2018-12-01 09:35:00|\n",
      "|        [{382, P12}]|        C67|2018-12-01 21:32:00|\n",
      "|        [{970, P54}]|        C79|2018-12-01 20:06:00|\n",
      "|[{1850, P60}, {19...|        C81|2018-12-01 07:38:00|\n",
      "|[{1220, P42}, {24...|        C87|2018-12-01 06:42:00|\n",
      "|       [{1610, P47}]|        C88|2018-12-01 06:46:00|\n",
      "|       [{1355, P12}]|        C97|2018-12-01 14:39:00|\n",
      "|[{129, P09}, {613...|        C98|2018-12-01 21:27:00|\n",
      "|[{120, P24}, {105...|       C102|2018-12-01 05:13:00|\n",
      "+--------------------+-----------+-------------------+\n",
      "only showing top 20 rows\n",
      "\n"
     ]
    }
   ],
   "source": [
    "ordersDf.show()"
   ]
  },
  {
   "cell_type": "code",
   "execution_count": 17,
   "id": "130c4005",
   "metadata": {},
   "outputs": [
    {
     "name": "stdout",
     "output_type": "stream",
     "text": [
      "+--------------------+-----------+-------------------+----------+\n",
      "|              basket|customer_id|   date_of_purchase|product_id|\n",
      "+--------------------+-----------+-------------------+----------+\n",
      "|         [{15, P27}]|         C3|2018-12-01 23:36:00|       P27|\n",
      "|[{718, P37}, {567...|         C4|2018-12-01 17:19:00|       P37|\n",
      "|[{718, P37}, {567...|         C4|2018-12-01 17:19:00|       P40|\n",
      "|[{718, P37}, {567...|         C4|2018-12-01 17:19:00|       P39|\n",
      "|[{302, P27}, {572...|         C9|2018-12-01 18:20:00|       P27|\n",
      "|[{302, P27}, {572...|         C9|2018-12-01 18:20:00|       P22|\n",
      "|[{302, P27}, {572...|         C9|2018-12-01 18:20:00|       P29|\n",
      "|[{1999, P36}, {16...|        C10|2018-12-01 19:56:00|       P36|\n",
      "|[{1999, P36}, {16...|        C10|2018-12-01 19:56:00|       P38|\n",
      "|[{720, P15}, {179...|        C16|2018-12-01 03:01:00|       P15|\n",
      "|[{720, P15}, {179...|        C16|2018-12-01 03:01:00|       P20|\n",
      "|       [{1595, P52}]|        C18|2018-12-01 18:47:00|       P52|\n",
      "|[{1642, P36}, {12...|        C23|2018-12-01 23:14:00|       P36|\n",
      "|[{1642, P36}, {12...|        C23|2018-12-01 23:14:00|       P39|\n",
      "|[{183, P61}, {206...|        C27|2018-12-01 10:08:00|       P61|\n",
      "|[{183, P61}, {206...|        C27|2018-12-01 10:08:00|       P63|\n",
      "|[{853, P47}, {158...|        C42|2018-12-01 05:02:00|       P47|\n",
      "|[{853, P47}, {158...|        C42|2018-12-01 05:02:00|       P45|\n",
      "|       [{1094, P64}]|        C43|2018-12-01 13:43:00|       P64|\n",
      "|[{495, P33}, {147...|        C55|2018-12-01 12:46:00|       P33|\n",
      "+--------------------+-----------+-------------------+----------+\n",
      "only showing top 20 rows\n",
      "\n"
     ]
    }
   ],
   "source": [
    "explodedOrders = ordersDf.withColumn(\"product_id\", explode(col(\"basket.product_id\")))\n",
    "explodedOrders.show()"
   ]
  },
  {
   "cell_type": "code",
   "execution_count": 18,
   "id": "32ef8b23",
   "metadata": {},
   "outputs": [
    {
     "name": "stdout",
     "output_type": "stream",
     "text": [
      "+-----------+-------------+----------+----------------+\n",
      "|customer_id|loyalty_score|product_id|product_category|\n",
      "+-----------+-------------+----------+----------------+\n",
      "|         C3|            8|       P27|       fruit_veg|\n",
      "|         C4|            5|       P37|          sweets|\n",
      "|         C4|            5|       P40|          sweets|\n",
      "|         C4|            5|       P39|          sweets|\n",
      "|         C9|            8|       P27|       fruit_veg|\n",
      "|         C9|            8|       P22|       fruit_veg|\n",
      "|         C9|            8|       P29|       fruit_veg|\n",
      "|        C10|            5|       P36|          sweets|\n",
      "|        C10|            5|       P38|          sweets|\n",
      "|        C16|            5|       P15|         clothes|\n",
      "|        C16|            5|       P20|         clothes|\n",
      "|        C18|            8|       P52|            food|\n",
      "|        C23|           10|       P36|          sweets|\n",
      "|        C23|           10|       P39|          sweets|\n",
      "|        C27|           10|       P61|             bws|\n",
      "|        C27|           10|       P63|             bws|\n",
      "|        C42|            2|       P47|            food|\n",
      "|        C42|            2|       P45|            food|\n",
      "|        C43|           10|       P64|             bws|\n",
      "|        C55|            8|       P33|       fruit_veg|\n",
      "+-----------+-------------+----------+----------------+\n",
      "only showing top 20 rows\n",
      "\n"
     ]
    }
   ],
   "source": [
    "df  = explodedOrders.join(productsDf,[\"product_id\"]).join(customersDf,[\"customer_id\"]).select(\"customer_id\",\"loyalty_score\", \"product_id\", \"product_category\")\n",
    "df.show()"
   ]
  },
  {
   "cell_type": "code",
   "execution_count": 21,
   "id": "11fbaaf9",
   "metadata": {},
   "outputs": [],
   "source": [
    "productMerged = df.groupBy([\"customer_id\"]).agg(collect_list('product_id').alias('Products_id'))\n",
    "categoryMerged = df.groupBy([\"customer_id\"]).agg(collect_list(\"product_category\").alias('Products_category'))\n",
    "purchaseCoun = df.groupBy([\"customer_id\"]).agg(count('customer_id').alias('Purchase_count'))"
   ]
  },
  {
   "cell_type": "code",
   "execution_count": 23,
   "id": "51ff4cb9",
   "metadata": {},
   "outputs": [
    {
     "name": "stdout",
     "output_type": "stream",
     "text": [
      "+-----------+-------------+---------------+--------------------+--------------+\n",
      "|customer_id|loyalty_score|    Products_id|   Products_category|Purchase_count|\n",
      "+-----------+-------------+---------------+--------------------+--------------+\n",
      "|        C98|            7|[P09, P12, P03]|[house, house, ho...|             3|\n",
      "|       C104|            7|[P46, P54, P55]|  [food, food, food]|             3|\n",
      "|       C107|            3|     [P62, P61]|          [bws, bws]|             2|\n",
      "|       C113|            5|[P01, P12, P05]|[house, house, ho...|             3|\n",
      "|        C42|            2|     [P47, P45]|        [food, food]|             2|\n",
      "|       C130|            7|[P09, P08, P10]|[house, house, ho...|             3|\n",
      "|       C102|            1|     [P24, P27]|[fruit_veg, fruit...|             2|\n",
      "|        C87|            3|     [P42, P47]|        [food, food]|             2|\n",
      "|       C103|            7|          [P63]|               [bws]|             1|\n",
      "|        C18|            8|          [P52]|              [food]|             1|\n",
      "|         C3|            8|          [P27]|         [fruit_veg]|             1|\n",
      "|         C4|            5|[P37, P40, P39]|[sweets, sweets, ...|             3|\n",
      "|       C124|            7|[P40, P38, P38]|[sweets, sweets, ...|             3|\n",
      "|        C79|            1|          [P54]|              [food]|             1|\n",
      "|        C27|           10|     [P61, P63]|          [bws, bws]|             2|\n",
      "|       C132|            7|     [P61, P62]|          [bws, bws]|             2|\n",
      "|         C9|            8|[P27, P22, P29]|[fruit_veg, fruit...|             3|\n",
      "|        C56|            4|[P01, P07, P09]|[house, house, ho...|             3|\n",
      "|        C16|            5|     [P15, P20]|  [clothes, clothes]|             2|\n",
      "|       C134|            6|     [P37, P35]|    [sweets, sweets]|             2|\n",
      "+-----------+-------------+---------------+--------------------+--------------+\n",
      "only showing top 20 rows\n",
      "\n"
     ]
    }
   ],
   "source": [
    "df1 = df.join(productMerged,['customer_id']) \\\n",
    "    .join(categoryMerged,['customer_id']) \\\n",
    "    .join(purchaseCoun,['customer_id']) \\\n",
    "    .select(\"customer_id\",\"loyalty_score\", \"Products_id\", \"Products_category\",\"Purchase_count\") \\\n",
    "    .distinct()\n",
    "df1.show()"
   ]
  },
  {
   "cell_type": "code",
   "execution_count": 24,
   "id": "d842e6be",
   "metadata": {},
   "outputs": [],
   "source": [
    "pandas_df = df1.toPandas()\n",
    "pandas_df.set_index(\"customer_id\")\n",
    "pandas_df.to_json(\"../test.JSON\",orient='records')\n",
    "#saving json"
   ]
  }
 ],
 "metadata": {
  "kernelspec": {
   "display_name": "Python 3",
   "language": "python",
   "name": "python3"
  },
  "language_info": {
   "codemirror_mode": {
    "name": "ipython",
    "version": 3
   },
   "file_extension": ".py",
   "mimetype": "text/x-python",
   "name": "python",
   "nbconvert_exporter": "python",
   "pygments_lexer": "ipython3",
   "version": "3.8.11"
  }
 },
 "nbformat": 4,
 "nbformat_minor": 5
}
